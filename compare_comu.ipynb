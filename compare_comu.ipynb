{
 "cells": [
  {
   "cell_type": "markdown",
   "id": "a63d528e-3b66-4c39-aee8-cfb1b89f5e44",
   "metadata": {},
   "source": [
    "# <center> Communautés dans un réseau </center>\n",
    "<center> SAE 1.02 / 2024 - 25 </center>\n"
   ]
  },
  {
   "cell_type": "markdown",
   "id": "5a746411-ed72-4fe0-96ad-c597db17a5f7",
   "metadata": {},
   "source": [
    "<center> programmes suivants <strong>indispensables</strong> au fonctionnement de chaque comparaison <center>"
   ]
  },
  {
   "cell_type": "code",
   "execution_count": 9,
   "id": "664dca9e-c139-47e6-97e4-b78af355951e",
   "metadata": {},
   "outputs": [],
   "source": [
    "from time import time\n",
    "from matplotlib.pyplot import plot, show, legend, xlabel, ylabel"
   ]
  },
  {
   "cell_type": "code",
   "execution_count": 10,
   "id": "52e13d3a-5a0c-4fe8-8805-1102f0e610ae",
   "metadata": {},
   "outputs": [],
   "source": [
    "#Fichiers .csv utilisés pour comparer les temps d'exécutions des fonctions\n",
    "\n",
    "reseaux=[]\n",
    "def lecture_reseau(path):      #fonction provenant de la SAE 1.01\n",
    "    f_in=open(path,encoding='utf-8', mode ='r')\n",
    "    \n",
    "    amis=[]\n",
    "    li=f_in.readline()\n",
    "    li=li.strip()\n",
    "    while li!='':\n",
    "        tab_li=li.split(';')\n",
    "        amis.append(tab_li[0])\n",
    "        amis.append(tab_li[1])\n",
    "        li=f_in.readline()\n",
    "        li=li.strip()\n",
    "    f_in.close()\n",
    "    return amis\n",
    "\n",
    "\n",
    "reseaux.append(lecture_reseau('file/Communaute1.csv'))\n",
    "reseaux.append(lecture_reseau('file/Communaute2.csv'))\n",
    "reseaux.append(lecture_reseau('file/Communaute3.csv'))\n",
    "reseaux.append(lecture_reseau('file/Communaute4.csv'))\n",
    "\n",
    "#définition du tableau des tailles de chaque fichier\n",
    "\n",
    "taille_tableau=[] #tableau accueillant la taille de chaque fichier\n",
    "\n",
    "for i in range(len(reseaux)):                    #boucle ajoutant la taille de chaque fichier à taille_tableau\n",
    "    taille_tableau.append(len(reseaux[i]))    \n"
   ]
  },
  {
   "cell_type": "markdown",
   "id": "0afd122a-e03a-48e5-b201-788977768542",
   "metadata": {},
   "source": [
    "**2.** Comparer **théoriquement** et **pratiquement** les fonctions cree_reseau et dico_reseau. (Cette dernière construit le réseau en cherchant d'abord les amis d'Alice, puis de Bob, etc.)"
   ]
  },
  {
   "cell_type": "code",
   "execution_count": 29,
   "id": "d1eca2e1-d34f-4dba-a85a-2260d629b272",
   "metadata": {},
   "outputs": [],
   "source": [
    "#fonctions provenant de la SAE 1.01\n",
    "def personnes(amis):\n",
    "    \"\"\"\n",
    "    retourne le tableau des différentes personnes du tableau amis\n",
    "    \"\"\"\n",
    "    personnes=[]                         \n",
    "    i=0                                \n",
    "    while i<len(amis):                      \n",
    "        if amis[i] not in personnes:               \n",
    "            personnes.append(amis[i])             \n",
    "        i+=1                                      \n",
    "    return personnes\n",
    "\n",
    "def ses_amis(amis, prenom):\n",
    "    \"\"\"\n",
    "    Retourne le tableau des amis de prenom\n",
    "    \"\"\"\n",
    "    ses_amis=[]\n",
    "    i=0\n",
    "    while i<len(amis)/2:\n",
    "        if amis[2*i]== prenom :\n",
    "            ses_amis.append(amis[2*i+1])\n",
    "        elif amis[2*i+1]==prenom :\n",
    "            ses_amis.append(amis[2*i])\n",
    "        i+=1\n",
    "    return ses_amis\n",
    "\n",
    "\n",
    "#version non optimisée \n",
    "def dico_reseau(amis):\n",
    "    reseau={}\n",
    "    # membres du réseau \n",
    "    pers=personnes(amis)\n",
    "    # construction du dictionnaire\n",
    "    i=0\n",
    "    while i<len(pers):\n",
    "        reseau[pers[i]]=ses_amis(amis,pers[i])\n",
    "        i+=1\n",
    "    return reseau\n"
   ]
  },
  {
   "cell_type": "code",
   "execution_count": 30,
   "id": "a4231a19-e301-4eda-b6f2-e7af1ecba162",
   "metadata": {},
   "outputs": [],
   "source": [
    "\n",
    "def cree_reseau(liste):\n",
    "    \"\"\"\n",
    "    Créer un dictionnaire d'amitié à partir d'une liste.\n",
    "    Chaque couple représente une interaction d'amitié entre deux personnes\n",
    "    Le réseau est représenté sous forme de dictionnaire où les clés sont les noms des personnes,\n",
    "    et les valeurs sont les listes de leurs amis.\n",
    "    \"\"\"\n",
    "    dico={}    #Crée un ditionnaire vide\n",
    "    for a in range(len(liste)//2):  #Si la pemière personne du couple n'est pas dans le réseau, on l'ajoute en tant que clé dans le dico\n",
    "        if liste[a*2] not in dico:\n",
    "            dico[liste[a*2]]=[]\n",
    "       \n",
    "        if liste[a*2+1] not in dico:  #Si la deuxième personne du couple n'est pas dans le réseau, on l'ajoute en tant que clé dans le dico\n",
    "            dico[liste[a*2+1]]=[]\n",
    "       \n",
    "        if liste[a*2] not in dico[liste[a*+1]]:   #Ajout des amis dans leur listes\n",
    "            dico[liste[a*2]].append(liste[a*2+1])\n",
    "            dico[liste[a*2+1]].append(liste[a*2])\n",
    "        \n",
    "        if liste[a*2+1] not in dico[liste[a*2]]:   #Ajout des amis dans leur listes\n",
    "            dico[liste[a*2+1]].append(liste[a*2])\n",
    "            dico[liste[a*2]].append(liste[a*2+1])\n",
    "       \n",
    "    return dico\n",
    "       "
   ]
  },
  {
   "cell_type": "markdown",
   "id": "47910111-2ea6-4014-b1de-3eff288f3b38",
   "metadata": {},
   "source": [
    "<center><strong> Dans un premier temps, on va s'intéresser à une comparaison théorique. </strong><center>\n"
   ]
  },
  {
   "cell_type": "markdown",
   "id": "96a4e87d-8687-4bbf-bb2a-df196437dda5",
   "metadata": {},
   "source": [
    "La fonction dico_réseau utilise des fonctions auxiliaires, personnes et ses_amis.\n",
    "Regardons de plus près ce que fait chaque fonction pour déterminer la complexité théorique de dico_reseau :\n",
    "\n",
    "\n",
    "la fonction personnes parcours le tableau d'amis en entier ce qui implique une complexité linéaire O(n) ou n est la taille du tableau d'amis. Mais la vérification if amis[i] not in personnes parcoure dans le pire des cas tout le tableau personnes. On a donc des boucles imbriquées qui impliquent une complexité quadratique O(n²) pour la fonction personnes.\n",
    "A cela s'ajoute la fonction ses_amis qui parcours la moitié du tableau d'amis. On peut dire que sa complexité est linéaire soit O(n).\n",
    "\n",
    "La fonction dico_reseau appelle une fois la fonction personnes : on reste donc sur O(n²). La fonction ses_amis O(n) est appelée k fois ou k est le nombre de membres du tableau d'amis (renvoyé par la fonction personnes). Dans le pire des cas, la fonction ses_amis est appelée n fois ce qui veut dire qu'on parcoure n fois le tableau d'amis. On se retrouverait donc avec une complexité quadratique O(n²) lors de l'appel de la fonction ses_amis dans la boucle. \n",
    "Au final, on a une complexité asymptotique quadratique pour la foncion dico_reseau.\n"
   ]
  },
  {
   "cell_type": "markdown",
   "id": "25c0f383-bd7e-4019-9337-754dc3abb069",
   "metadata": {},
   "source": [
    "En ce qui concerne la fonction cree_reseau, on a une seule boucle qui compose la fonction.On a une complexité linéaire avec la boucle principal.\n",
    "Au final, la fonction cree_reseau est linéaire.\n"
   ]
  },
  {
   "cell_type": "markdown",
   "id": "77e96ad9-a7cb-4f5f-a26a-9afaec3e3bf8",
   "metadata": {},
   "source": [
    "<center><strong> Intéressons-nous à la comparaison pratique de ces deux fonctions. <strong><center>"
   ]
  },
  {
   "cell_type": "code",
   "execution_count": 41,
   "id": "1ad554ca-46bf-409a-a567-1011fe4f46bf",
   "metadata": {},
   "outputs": [],
   "source": [
    "#boucle calculant le temps d'exécution de dico_reseau et cree_reseau pour chaque fichier\n",
    "\n",
    "temps_dico_reseau=[]\n",
    "temps_cree_reseau=[]\n",
    " \n",
    "for i in reseaux:                  \n",
    "    tic=time()\n",
    "    dico_reseau(i)\n",
    "    tac=time()\n",
    "    temps_dico_reseau.append(round((tac-tic),3))  \n",
    "    \n",
    "    tic=time()\n",
    "    cree_reseau(i)\n",
    "    tac=time()\n",
    "    temps_cree_reseau.append(round(1000*(tac-tic),3))"
   ]
  },
  {
   "cell_type": "markdown",
   "id": "48b101a9-44d2-40f8-8849-7b9501a14fdd",
   "metadata": {},
   "source": [
    "<strong> Affichage des courbes </strong>"
   ]
  },
  {
   "cell_type": "code",
   "execution_count": 39,
   "id": "1bd3a4eb-c898-4e1f-8794-96fa7d3042d3",
   "metadata": {
    "scrolled": true
   },
   "outputs": [
    {
     "data": {
      "text/plain": [
       "<matplotlib.legend.Legend at 0x723a48f85f30>"
      ]
     },
     "execution_count": 39,
     "metadata": {},
     "output_type": "execute_result"
    },
    {
     "data": {
      "image/png": "[encoded data removed]",
      "text/plain": [
       "<Figure size 432x288 with 1 Axes>"
      ]
     },
     "metadata": {
      "needs_background": "light"
     },
     "output_type": "display_data"
    }
   ],
   "source": [
    "#affichage de la courbe de la fonction dico_reseau\n",
    "%matplotlib inline\n",
    "\n",
    "plot(taille_tableau, temps_dico_reseau, label=\"dico_reseau\")\n",
    "\n",
    "xlabel(\"taille tableau\")\n",
    "ylabel(\"temps d'exécution (en s)\")\n",
    "legend()"
   ]
  },
  {
   "cell_type": "code",
   "execution_count": 40,
   "id": "6773c720-a793-4fc5-9feb-dca911d72e55",
   "metadata": {},
   "outputs": [
    {
     "data": {
      "text/plain": [
       "<matplotlib.legend.Legend at 0x723a48cbac50>"
      ]
     },
     "execution_count": 40,
     "metadata": {},
     "output_type": "execute_result"
    },
    {
     "data": {
      "image/png": "[encoded data removed]",
      "text/plain": [
       "<Figure size 432x288 with 1 Axes>"
      ]
     },
     "metadata": {
      "needs_background": "light"
     },
     "output_type": "display_data"
    }
   ],
   "source": [
    "#affichage de la courbe de la fonction cree_reseau\n",
    "%matplotlib inline\n",
    "\n",
    "plot(taille_tableau, temps_cree_reseau, label=\"cree_reseau\")\n",
    "\n",
    "xlabel(\"taille tableau\")\n",
    "ylabel(\"temps d'exécution (en ms)\")\n",
    "legend()"
   ]
  },
  {
   "cell_type": "markdown",
   "id": "7eff9c3b-3627-4c29-bc3a-1108da4bbc27",
   "metadata": {},
   "source": [
    "\n",
    "On remarque que la fonction cree_reseau est beaucoup plus rapide que dico_reseau. En effet, n'ayant pas recours à plusieurs fonctions auxiliares et en parcourant qu'une fois le tableau d'amis, la fonction cree_reseau est plus performante.\n",
    " "
   ]
  },
  {
   "cell_type": "markdown",
   "id": "a898d64b-63f5-409e-90b5-d5eb5e01b033",
   "metadata": {},
   "source": [
    "**11.** Comparer **théoriquement** et **pratiquement** les fonctions comu_dans_reseau et comu_dans_amis appliquée à une personne des plus populaires (la recherche de la personne la plus populaire sera prise en compte dans la complexité)."
   ]
  },
  {
   "cell_type": "code",
   "execution_count": 12,
   "id": "47200971-d591-4520-85c2-9f5250746740",
   "metadata": {},
   "outputs": [],
   "source": [
    "#fonctions auxiliaires à comu_dans_reseau et comu_dans_amis\n",
    "def sont_amis(reseau,a,b):\n",
    "    \"\"\"\n",
    "    Vérifier si deux personnes sont amies dans le réseau.\n",
    "    Prend en entrée le réseau, ainsi que les noms des deux personnes.\n",
    "    Retourne True si elles sont amies, sinon False.\n",
    "    \"\"\"\n",
    "    #Vérifie si 'b' est dans la liste des amis de 'a'\n",
    "    return (b in reseau[a])\n",
    "\n",
    "def sont_amis_de(a,groupe,reseau):\n",
    "    \"\"\"\n",
    "    Vérifier si une personne est amie avec tous les membres d'un groupe.\n",
    "    Prend en entrée le nom de la personne, un groupe de personnes, et le réseau.\n",
    "    Retourne True si la personne est amie avec chaque membre du groupe, sinon False.\n",
    "    \"\"\"\n",
    "    for i in groupe:        #Vérifie si 'a' est ami avec tous les membres du groupe\n",
    "        if not sont_amis(reseau,a,i):\n",
    "            return False      #Si une personne n'est pas amie, retourne False\n",
    "    return True       #Sinon, retourne True\n",
    "    \n",
    "def comu(groupe,reseau):\n",
    "    \"\"\"\n",
    "    Construire une communauté à partir d'un groupe de personnes et d'un réseau.\n",
    "    Ajoute successivement des personnes à la communauté si elles sont amies avec tous ses membres.\n",
    "    Retourne une liste représentant la communauté maximale trouvée.\n",
    "    \"\"\"\n",
    "    #Initialise une communauté avec la première personne\n",
    "    communaute=[groupe[0]]\n",
    "  \n",
    "    for pers in range(1,len(groupe)):        #Ajoute la personne si elle est amie avec tous les membres actuels de la communauté\n",
    "        if sont_amis_de(groupe[pers],communaute,reseau):\n",
    "            communaute.append(groupe[pers])\n",
    "    return communaute         #Retourne la communauté maximale trouvée\n",
    "    \n",
    "def tri_insertion_desc(tab):\n",
    "    \"\"\"\n",
    "    Fonction prend en paramètre un tableau et retourne le tableau trié dans l'ordre décroissant.\n",
    "    Algorithme de tri par insertion.\n",
    "    \"\"\"\n",
    "    for i in range(1, len(tab)):\n",
    "        tmp = tab[i]\n",
    "        j = i\n",
    "        while j > 0 and tab[j - 1][0] < tmp[0]:\n",
    "            tab[j] = tab[j - 1]\n",
    "            j -= 1\n",
    "        tab[j] = tmp\n",
    "        \n",
    "    return tab\n",
    "\n",
    "def tri_popu(groupe, reseau):\n",
    "    \"\"\"\n",
    "    Trier un groupe de personnes par popularité décroissante (nombre d'amis).\n",
    "    Prend en entrée une liste de prénoms et le réseau.\n",
    "    Retourne une liste triée des noms, de la personne la plus populaire à la moins populaire.\n",
    "    \"\"\"\n",
    "    #Calcul du nombre d'amis pour chaque personne\n",
    "    tab = []\n",
    "    for personne in groupe:\n",
    "        nb = len(reseau[personne])  #Nombre d'amis de la personne\n",
    "        tab.append([nb, personne])  #Ajoute le couple Nombre d'amis et la personne\n",
    "        \n",
    "    #Tri de tab en fonction du Nombre d'amis\n",
    "    tab_tri=tri_insertion_desc(tab)\n",
    "    \n",
    "    #Récupère uniquement les prénoms triés\n",
    "    resultat = [personne for _, personne in tab_tri]\n",
    "    \n",
    "    return resultat  \n",
    "\n",
    "   "
   ]
  },
  {
   "cell_type": "code",
   "execution_count": 15,
   "id": "63631d92-6a74-496e-a699-cc3db77cf096",
   "metadata": {},
   "outputs": [],
   "source": [
    "#fonctions à comparer\n",
    "def comu_dans_reseau(reseau):\n",
    "    \"\"\"\n",
    "    Construire une communauté maximale en triant les membres du réseau par popularité décroissante.\n",
    "    Prend en entrée le réseau sous forme de dictionnaire.\n",
    "    Retourne une communauté maximale sous forme de liste.\n",
    "    \"\"\"\n",
    "    #Trie les membres du groupe par popularité décroisante\n",
    "    tab=tri_popu(reseau,reseau)\n",
    "    return comu(tab,reseau)   #Retourne la comu\n",
    "\n",
    "def comu_dans_amis(personne, reseau):\n",
    "    \"\"\"\n",
    "    Construire une communauté maximale à partir d'une personne et de ses amis.\n",
    "    Trie les amis de la personne par popularité décroissante et les ajoute successivement à la communauté.\n",
    "    Prend en entrée le nom de la personne et le réseau.\n",
    "    Retourne une liste représentant la communauté maximale formée.\n",
    "    \"\"\"\n",
    "    # On commence avec la personne dans la communauté\n",
    "    communaute=[personne]\n",
    "    amis=tri_popu(reseau[personne],reseau)   #liste les amis de la personne triés par popularité décroissante\n",
    "   \n",
    "    for i in amis:              #ajoute les amis à la communnaute\n",
    "        communaute.append(i) \n",
    "    communaute_finale=comu(communaute,reseau)   #détermine la communaute_final\n",
    "    return communaute_finale        \n",
    "\n"
   ]
  },
  {
   "cell_type": "markdown",
   "id": "bed5a3f0-b8bd-4f7c-975d-9f86ade29fac",
   "metadata": {},
   "source": [
    "<center><strong> Intéressons-nous à la comparaison théorique </strong><center>"
   ]
  },
  {
   "cell_type": "markdown",
   "id": "c7e8be90-f69a-4c77-9aac-1e95d917e59d",
   "metadata": {},
   "source": [
    "Les fonctions comu_dans_amis et comu_dans_reseau sont très similaires. Elles utilisent les mêmes fonctions auxiliaires : tri_popu et comu.\n",
    "Ces dernières ont toutes deux une complexité asymptotique quadratique. Donc, comu_dans_amis et comu_dans_reseau également. \n",
    "Pourtant on peut déjà remarqué que comu_dans_reseau est plus simple que son homologue qui utilise une boucle en plus qui a donc une complexité linéaire. \n",
    "Comu_dans_amis sera plus lent avec des réseaux de plus en plus grand."
   ]
  },
  {
   "cell_type": "markdown",
   "id": "7842145f-764a-4a68-8439-48a1d61b8770",
   "metadata": {},
   "source": [
    "<center><strong> Voyons maintenant la comparaison pratique. </strong><center>"
   ]
  },
  {
   "cell_type": "code",
   "execution_count": 27,
   "id": "3bb5781d-ff5e-4a25-bcb2-111eb0c8014e",
   "metadata": {},
   "outputs": [],
   "source": [
    "\n",
    "dicos=[]\n",
    "for i in reseaux:                    #liste des différents dictionnaires pour chaque réseau d'amitié des fichiers\n",
    "    dicos.append(cree_reseau(i))\n",
    "\n",
    "temps_comu_dans_amis=[]\n",
    "temps_comu_dans_reseau=[]\n",
    " \n",
    "for i in range(len(reseaux)):                  #boucle calculant temps d'exécution de dico_reseau et cree_reseau pour chaque fichier\n",
    "    tic=time()\n",
    "    personne=tri_popu(dicos[i],dicos[i])[0]\n",
    "    comu_dans_amis(personne,dicos[i])\n",
    "    tac=time()\n",
    "    temps_comu_dans_amis.append(round((tac-tic),3))  \n",
    "    \n",
    "    tic=time()\n",
    "    comu_dans_reseau(dicos[i])\n",
    "    tac=time()\n",
    "    temps_comu_dans_reseau.append(round((tac-tic),3))"
   ]
  },
  {
   "cell_type": "markdown",
   "id": "5a740a5c-3c7b-4a09-a3b1-d7fdc3690691",
   "metadata": {},
   "source": [
    "<strong> Affichage des courbes </strong>"
   ]
  },
  {
   "cell_type": "code",
   "execution_count": 37,
   "id": "5a3c8b5b-0a36-4b80-abe5-8ef3784cf8bf",
   "metadata": {},
   "outputs": [
    {
     "data": {
      "text/plain": [
       "<matplotlib.legend.Legend at 0x723a48c06d40>"
      ]
     },
     "execution_count": 37,
     "metadata": {},
     "output_type": "execute_result"
    },
    {
     "data": {
      "image/png": "[encoded data removed]",
      "text/plain": [
       "<Figure size 432x288 with 1 Axes>"
      ]
     },
     "metadata": {
      "needs_background": "light"
     },
     "output_type": "display_data"
    }
   ],
   "source": [
    "#affichage des courbes de la fonction comu_dans_amis et comu_dans_reseau\n",
    "%matplotlib inline\n",
    "\n",
    "plot(taille_tableau, temps_comu_dans_amis, label=\"comu_dans_amis\")\n",
    "plot(taille_tableau, temps_comu_dans_reseau, label=\"comu_dans_reseau\")\n",
    "\n",
    "xlabel(\"taille tableau\")\n",
    "ylabel(\"temps d'exécution (en s)\")\n",
    "legend()"
   ]
  },
  {
   "cell_type": "markdown",
   "id": "94f43d96-4aef-47a2-9919-83f7d9379d49",
   "metadata": {},
   "source": [
    "Les deux fonctions ont une courbe représentative quadratique identique. Celle de comu_dans_reseau est légèrement moins croissante."
   ]
  }
 ],
 "metadata": {
  "kernelspec": {
   "display_name": "Python 3 (ipykernel)",
   "language": "python",
   "name": "python3"
  },
  "language_info": {
   "codemirror_mode": {
    "name": "ipython",
    "version": 3
   },
   "file_extension": ".py",
   "mimetype": "text/x-python",
   "name": "python",
   "nbconvert_exporter": "python",
   "pygments_lexer": "ipython3",
   "version": "3.10.12"
  }
 },
 "nbformat": 4,
 "nbformat_minor": 5
}
